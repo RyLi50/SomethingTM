{
 "cells": [
  {
   "cell_type": "code",
   "execution_count": null,
   "metadata": {},
   "outputs": [],
   "source": [
    "name = input(\"What is your name? \")\n",
    "goin = True\n",
    "while (goin):\n",
    "    try: \n",
    "        num = int(input(\"Enter a integer: \"))\n",
    "        break\n",
    "    except:\n",
    "        print(\"Please only enter an integer :P\")\n",
    "c = 0\n",
    "while (c<num):\n",
    "    print(name)\n",
    "    c += 1"
   ]
  }
 ],
 "metadata": {
  "kernelspec": {
   "display_name": "Python 3",
   "language": "python",
   "name": "python3"
  },
  "language_info": {
   "codemirror_mode": {
    "name": "ipython",
    "version": 3
   },
   "file_extension": ".py",
   "mimetype": "text/x-python",
   "name": "python",
   "nbconvert_exporter": "python",
   "pygments_lexer": "ipython3",
   "version": "3.8.3"
  }
 },
 "nbformat": 4,
 "nbformat_minor": 4
}
