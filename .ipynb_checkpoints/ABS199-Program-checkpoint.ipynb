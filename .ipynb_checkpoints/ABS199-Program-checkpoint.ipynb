{
 "cells": [
  {
   "cell_type": "code",
<<<<<<< HEAD:TMnotebookjkf31.ipynb
   "execution_count": 3,
=======
   "execution_count": 5,
>>>>>>> 11cddec7dade020ef915ede01c6f87c9503b2320:.ipynb_checkpoints/Untitled-checkpoint.ipynb
   "metadata": {},
   "outputs": [
    {
     "name": "stdin",
     "output_type": "stream",
     "text": [
<<<<<<< HEAD:TMnotebookjkf31.ipynb
      "What is your name?  Ryan\n",
      "Enter a integer:  no\n"
=======
      "What is your age 10\n"
>>>>>>> 11cddec7dade020ef915ede01c6f87c9503b2320:.ipynb_checkpoints/Untitled-checkpoint.ipynb
     ]
    },
    {
     "name": "stdout",
     "output_type": "stream",
     "text": [
<<<<<<< HEAD:TMnotebookjkf31.ipynb
      "Please only enter an integer :P\n"
     ]
    },
    {
     "name": "stdin",
     "output_type": "stream",
     "text": [
      "Enter a integer:  10\n"
     ]
    },
    {
     "name": "stdout",
     "output_type": "stream",
     "text": [
      "Ryan\n",
      "Ryan\n",
      "Ryan\n",
      "Ryan\n",
      "Ryan\n",
      "Ryan\n",
      "Ryan\n",
      "Ryan\n",
      "Ryan\n",
      "Ryan\n"
=======
      "you are 10 years old \n"
>>>>>>> 11cddec7dade020ef915ede01c6f87c9503b2320:.ipynb_checkpoints/Untitled-checkpoint.ipynb
     ]
    }
   ],
   "source": [
<<<<<<< HEAD:TMnotebookjkf31.ipynb
    "name = input(\"What is your name? \")\n",
    "goin = True\n",
    "while (goin):\n",
    "    try: \n",
    "        num = int(input(\"Enter a integer: \"))\n",
    "        break\n",
    "    except:\n",
    "        print(\"Please only enter an integer :P\")\n",
    "c = 0\n",
    "while (c<num):\n",
    "    print(name)\n",
    "    c += 1"
=======
    "age = input(\"What is your age\")\n",
    "print(\"you are \" + str (age) + \" years old \")"
>>>>>>> 11cddec7dade020ef915ede01c6f87c9503b2320:.ipynb_checkpoints/Untitled-checkpoint.ipynb
   ]
  },
  {
   "cell_type": "code",
   "execution_count": null,
   "metadata": {},
   "outputs": [],
   "source": []
  }
 ],
 "metadata": {
  "kernelspec": {
   "display_name": "Python 3",
   "language": "python",
   "name": "python3"
  },
  "language_info": {
   "codemirror_mode": {
    "name": "ipython",
    "version": 3
   },
   "file_extension": ".py",
   "mimetype": "text/x-python",
   "name": "python",
   "nbconvert_exporter": "python",
   "pygments_lexer": "ipython3",
   "version": "3.8.3"
  }
 },
 "nbformat": 4,
 "nbformat_minor": 4
}
